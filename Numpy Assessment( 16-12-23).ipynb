{
 "cells": [
  {
   "cell_type": "code",
   "execution_count": 4,
   "id": "c79207ee",
   "metadata": {},
   "outputs": [],
   "source": [
    "import numpy as np"
   ]
  },
  {
   "cell_type": "markdown",
   "id": "d320cdff",
   "metadata": {},
   "source": [
    "### 1. Write a function, foo_1, that takes a NumPy array `arr` and returns the indices of the elements that are closest to a given target. If target is not in the given array, it should return ‘no item found’"
   ]
  },
  {
   "cell_type": "code",
   "execution_count": 114,
   "id": "eca1cb40",
   "metadata": {},
   "outputs": [],
   "source": [
    "def foo_1(arr, target):\n",
    "    if target in arr:\n",
    "        x=np.abs(arr - target)\n",
    "        index = np.argsort(x)\n",
    "        return index\n",
    "    else:\n",
    "        return 'no item found'"
   ]
  },
  {
   "cell_type": "code",
   "execution_count": 115,
   "id": "bacf8c76",
   "metadata": {},
   "outputs": [
    {
     "data": {
      "text/plain": [
       "array([2, 3, 4, 5, 6, 8, 1, 7, 9, 0], dtype=int64)"
      ]
     },
     "execution_count": 115,
     "metadata": {},
     "output_type": "execute_result"
    }
   ],
   "source": [
    "arr = np.array([3, 8, 7, 7, 7, 7, 7, 8, 7, 10])\n",
    "target = 7\n",
    "foo_1(arr, target)"
   ]
  },
  {
   "cell_type": "code",
   "execution_count": 116,
   "id": "504e949a",
   "metadata": {},
   "outputs": [
    {
     "data": {
      "text/plain": [
       "'no item found'"
      ]
     },
     "execution_count": 116,
     "metadata": {},
     "output_type": "execute_result"
    }
   ],
   "source": [
    "arr = np.array([3, 8, 7, 7, 7, 7, 7, 8, 7, 10])\n",
    "target = 11\n",
    "foo_1(arr, target)"
   ]
  },
  {
   "cell_type": "markdown",
   "id": "a6dc4df1",
   "metadata": {},
   "source": [
    "### Explanation :\n",
    "* **step1** :Creating a function foo_1 with parameters arr and target\n",
    "    * arr: here arr is array \n",
    "    * target : elements which is in array \n",
    "* **step 2**  : if target value is in array then it goes beneath of if statement \n",
    "    * Assining variable 'x' to  use abs method while differencing array and target we may get negative values to avoid this  using absolute method\n",
    "* **step 3** :assigning index variable to argsort method  \n",
    "    * this method gives index of sorted elements \n",
    "    * here sorting elements  in asscending order . \n",
    "    * Bydefault argsort method arranges elements in ascending order\n",
    "* **step 4** :  it will return index of sorted elements \n",
    "* **step 5** : if target element is not present in array \n",
    "* **step 6** : it will return 'No Item Found'"
   ]
  },
  {
   "cell_type": "markdown",
   "id": "02c7b363",
   "metadata": {},
   "source": [
    "### 2. Write a user defined function foo_2 that takes a  2,3 dim NumPy array arr and returns a new n-1 dim array, where each element is replaced by the count of non-zero elements wrt axis.\n"
   ]
  },
  {
   "cell_type": "code",
   "execution_count": 117,
   "id": "3e7ed422",
   "metadata": {},
   "outputs": [],
   "source": [
    "def foo_2(arr, axis):\n",
    "    if arr.ndim != 2:\n",
    "        print(\"Input array must be 2-dimensional.\")\n",
    "    else:\n",
    "        x=np.where(arr != 0, 1, 0)\n",
    "        counts=np.sum(x,axis=axis)\n",
    "        return counts\n",
    "\n",
    "def foo_3(arr, axis):\n",
    "    if arr.ndim != 3:\n",
    "        print(\"Input array must be 3-dimensional.\")\n",
    "    else:\n",
    "        x=np.where(arr != 0, 1, 0)\n",
    "        counts=np.sum(x,axis=axis)\n",
    "        return counts"
   ]
  },
  {
   "cell_type": "code",
   "execution_count": 118,
   "id": "4100b3ec",
   "metadata": {},
   "outputs": [
    {
     "data": {
      "text/plain": [
       "array([2, 2, 2, 1])"
      ]
     },
     "execution_count": 118,
     "metadata": {},
     "output_type": "execute_result"
    }
   ],
   "source": [
    "arr = np.array([[1, 2, 3, 4], [0, 5, 0, 0], [2, 0, 1, 0]])\n",
    "foo_2(arr, axis=0)"
   ]
  },
  {
   "cell_type": "code",
   "execution_count": 119,
   "id": "f24e9105",
   "metadata": {},
   "outputs": [],
   "source": [
    "arr1 = np.array([[[1, 2, 3, 4], [0, 5, 0, 0], [2, 0, 1, 0]],\n",
    "                 [[2, 0, 1, 0], [0, 5, 0, 0], [1, 2, 3, 4]]])"
   ]
  },
  {
   "cell_type": "code",
   "execution_count": 120,
   "id": "54667dc1",
   "metadata": {},
   "outputs": [
    {
     "data": {
      "text/plain": [
       "array([[2, 1, 2, 1],\n",
       "       [0, 2, 0, 0],\n",
       "       [2, 1, 2, 1]])"
      ]
     },
     "execution_count": 120,
     "metadata": {},
     "output_type": "execute_result"
    }
   ],
   "source": [
    "foo_3(arr1,axis=0)"
   ]
  },
  {
   "cell_type": "code",
   "execution_count": 121,
   "id": "8279a10d",
   "metadata": {},
   "outputs": [
    {
     "data": {
      "text/plain": [
       "array([[2, 2, 2, 1],\n",
       "       [2, 2, 2, 1]])"
      ]
     },
     "execution_count": 121,
     "metadata": {},
     "output_type": "execute_result"
    }
   ],
   "source": [
    "foo_3(arr1,axis=1)"
   ]
  },
  {
   "cell_type": "code",
   "execution_count": 122,
   "id": "db958092",
   "metadata": {},
   "outputs": [
    {
     "data": {
      "text/plain": [
       "array([[4, 1, 2],\n",
       "       [2, 1, 4]])"
      ]
     },
     "execution_count": 122,
     "metadata": {},
     "output_type": "execute_result"
    }
   ],
   "source": [
    "foo_3(arr1,axis=2)"
   ]
  },
  {
   "cell_type": "markdown",
   "id": "551a319e",
   "metadata": {},
   "source": [
    "### Explanation\n",
    "* **step1** :Creating a function foo_2 with parameters arr and axis\n",
    "    * arr: here arr is array \n",
    "    * axis : here axis represent both rows and columns 'axis=0' represents row and axis=1 represent columns \n",
    "* **step 2**  : if array is not 2dimensional array it will print must be a 2Dimensional Array\n",
    "* **step 3** : if array is 2dimension then \n",
    "    * asiigning x variable to find np.where(arr != 0, 1, 0): This function takes three arguments:\n",
    "         * The first argument is the boolean condition (arr != 0), which determines whether each element of the output should be taken from the second or third argument.\n",
    "         * The second argument (1) is the value to take where the condition is True (i.e., where arr is not equal to zero).\n",
    "         * The third argument (0) is the value to take where the condition is False (i.e., where arr is equal to zero).\n",
    "* **step 4** : assigning  count variable to find sum of variable x and axis \n",
    "* **step 5** : return count  , it returns an array with axis we are defining \n",
    "* **step 6** : creating another function foo_3 for 3Dimensional array  with same parameters and block of codes "
   ]
  },
  {
   "attachments": {
    "image.png": {
     "image/png": "[encoded data removed]"
    }
   },
   "cell_type": "markdown",
   "id": "5ce0867b",
   "metadata": {},
   "source": [
    "###  3.1 You are given a 2D NumPy array of data representing student scores. Each row represents a student, and each column represents a subject. Extract the scores of all students who scored above 90 in at least one subject. Provide the resulting array.\n",
    "![image.png](attachment:image.png)"
   ]
  },
  {
   "cell_type": "code",
   "execution_count": 128,
   "id": "add24dc3",
   "metadata": {},
   "outputs": [],
   "source": [
    "def foo_marks(student_score):\n",
    "    x=np.any(marks > 90, axis=1)\n",
    "    result=marks[x]\n",
    "    print(\"score of students who secured greater than 90:\")\n",
    "    print(result)"
   ]
  },
  {
   "cell_type": "code",
   "execution_count": 129,
   "id": "cbb79de2",
   "metadata": {},
   "outputs": [],
   "source": [
    "student_score = np.array([[85, 89, 88],\n",
    "                 [78, 89, 94],\n",
    "                 [91, 87, 90],\n",
    "                 [87, 95, 84]])"
   ]
  },
  {
   "cell_type": "code",
   "execution_count": 130,
   "id": "2c893ec1",
   "metadata": {},
   "outputs": [
    {
     "name": "stdout",
     "output_type": "stream",
     "text": [
      "score of students who secured greater than 90:\n",
      "[[78 89 94]\n",
      " [91 87 90]\n",
      " [87 95 84]]\n"
     ]
    }
   ],
   "source": [
    "foo_marks(student_score)"
   ]
  },
  {
   "cell_type": "markdown",
   "id": "a7b9c1cf",
   "metadata": {},
   "source": [
    "### Explanation :\n",
    "* **step1** :Creating a function foo_marks with parameter student_score\n",
    "   * student_scores: an array which represents each row student scores and each column as subjects \n",
    "* **step 2**  : assining a variable 'x' to  np.any method \n",
    "     * np.any metho will checks that student score in any subject is above 90 or not ,axis=1 represents subject \n",
    "     * applying filter so that we will get only true outcomes\n",
    "* **step3**  :   applying boolean masking , it will give values \n",
    "* **step4** : it will print result  "
   ]
  },
  {
   "attachments": {
    "image.png": {
     "image/png": "[encoded data removed]"
    }
   },
   "cell_type": "markdown",
   "id": "415cc451",
   "metadata": {},
   "source": [
    "### 3.2 You are provided with a 2D NumPy array of data representing sales data for different products. Each row corresponds to a product, and each column represents the monthly sales for a specific month. Calculate the following statistics for each product: mean, median, standard deviation, and the month with the highest sales.\n",
    "![image.png](attachment:image.png)"
   ]
  },
  {
   "cell_type": "code",
   "execution_count": 75,
   "id": "9c086d6c",
   "metadata": {},
   "outputs": [],
   "source": [
    "def foo(sales_data):\n",
    "    mean_values = np.mean(sales_data, axis=1)\n",
    "    median_values = np.median(sales_data, axis=1)\n",
    "    std_dev_values = np.std(sales_data, axis=1)\n",
    "    highest_sales_month = np.max(sales_data, axis=1)\n",
    "    for i in range(len(sales_data)):\n",
    "        print(f\"Product {i + 1}:\")\n",
    "        print(f\"Mean: {mean_values[i]}\")\n",
    "        print(f\"Median: {median_values[i]}\")\n",
    "        print(f\"Standard Deviation: {std_dev_values[i]}\")\n",
    "        print(f\"Month with Highest Sales: Month {highest_sales_month[i] + 1}\")\n",
    "        print()"
   ]
  },
  {
   "cell_type": "code",
   "execution_count": 76,
   "id": "b0eae6a5",
   "metadata": {},
   "outputs": [],
   "source": [
    "sales_data=np.array([[120, 150, 130, 110],\n",
    "            [200, 180, 220, 250],\n",
    "            [90, 100, 95, 110],\n",
    "            [300,280,320, 340]])"
   ]
  },
  {
   "cell_type": "code",
   "execution_count": 77,
   "id": "77f4c450",
   "metadata": {},
   "outputs": [
    {
     "name": "stdout",
     "output_type": "stream",
     "text": [
      "Product 1:\n",
      "Mean: 127.5\n",
      "Median: 125.0\n",
      "Standard Deviation: 14.79019945774904\n",
      "Month with Highest Sales: Month 2\n",
      "\n",
      "Product 2:\n",
      "Mean: 212.5\n",
      "Median: 210.0\n",
      "Standard Deviation: 25.8602010819715\n",
      "Month with Highest Sales: Month 4\n",
      "\n",
      "Product 3:\n",
      "Mean: 98.75\n",
      "Median: 97.5\n",
      "Standard Deviation: 7.39509972887452\n",
      "Month with Highest Sales: Month 4\n",
      "\n",
      "Product 4:\n",
      "Mean: 310.0\n",
      "Median: 310.0\n",
      "Standard Deviation: 22.360679774997898\n",
      "Month with Highest Sales: Month 4\n",
      "\n"
     ]
    }
   ],
   "source": [
    "foo(sales_data)"
   ]
  },
  {
   "cell_type": "markdown",
   "id": "1084b05c",
   "metadata": {},
   "source": [
    "### Explanation :\n",
    "* **step1** :Creating a function foo with parameter sales_data\n",
    "    * sales_data : an array which representing sales data for different products.\n",
    "* **step 2** : finding average with respect to 'axis=1' which means, finding center of data for sales of different products using np.mean method \n",
    "* **step 3**: finding middle value with respect to 'axis=1' which means, finding middlevalue for sales of different products using np.median method\n",
    "* **step 4**: finding standard deviation  with respect to 'axis=1' which means, finding spread of data  for sales of different products using np.std method\n",
    "* **step 5**: finding highest sales month with respect to 'axis=1' which means, finding highest sales happen for products using np.max method \n",
    "* **step 6** : using for loop it will iterate in range of  sales_data\n",
    "    * for each product for loop iterates \n",
    "    * for each product it will print mean , median, standard deviation , and highest sales month "
   ]
  },
  {
   "cell_type": "markdown",
   "id": "253a6081",
   "metadata": {},
   "source": [
    "### 3.3 Create a NumPy array of size 1000 with random integers between 1 and 100. Then, use NumPy functions to find the top 10 most frequently occurring values in the array"
   ]
  },
  {
   "cell_type": "code",
   "execution_count": 124,
   "id": "1cb6fc3b",
   "metadata": {},
   "outputs": [],
   "source": [
    "def array(x):\n",
    "    unique_values, counts = np.unique(random_array, return_counts=True)\n",
    "    sorted = np.argsort(-counts)  # Sort in descending order\n",
    "    top_10_values = unique_values[sorted[:10]]\n",
    "    top_10_counts = counts[sorted[:10]]\n",
    "    print(\"Top 10 most frequently occurring values:\")\n",
    "    for value, count in zip(top_10_values, top_10_counts):\n",
    "        print(f\"Value: {value}, Occurrences: {count}\")"
   ]
  },
  {
   "cell_type": "code",
   "execution_count": 125,
   "id": "1f29e579",
   "metadata": {},
   "outputs": [],
   "source": [
    "x=np.random.randint(1,100,1000)"
   ]
  },
  {
   "cell_type": "code",
   "execution_count": 126,
   "id": "c9713251",
   "metadata": {},
   "outputs": [
    {
     "name": "stdout",
     "output_type": "stream",
     "text": [
      "Top 10 most frequently occurring values:\n",
      "Value: 94, Occurrences: 20\n",
      "Value: 46, Occurrences: 17\n",
      "Value: 17, Occurrences: 17\n",
      "Value: 79, Occurrences: 16\n",
      "Value: 35, Occurrences: 16\n",
      "Value: 64, Occurrences: 15\n",
      "Value: 60, Occurrences: 15\n",
      "Value: 58, Occurrences: 15\n",
      "Value: 96, Occurrences: 15\n",
      "Value: 71, Occurrences: 14\n"
     ]
    }
   ],
   "source": [
    "array(x)"
   ]
  },
  {
   "cell_type": "markdown",
   "id": "d27c22f6",
   "metadata": {},
   "source": [
    "### Explanation :\n",
    "* **step1** :Creating a function array with parameter x\n",
    "     * x: A n array with random integers of size 1000 in range of 1-100 \n",
    "* **step2** : finding unique values and count is for counting unique values \n",
    "* **step3** :index of  sorted elements  in descending order\n",
    "* **step 4**: using zip function values of higest repeated and count of repeated value in one iteration\n",
    "* **step 5** : printing highest occuring values and count of that corresponing values"
   ]
  }
 ],
 "metadata": {
  "kernelspec": {
   "display_name": "Python 3 (ipykernel)",
   "language": "python",
   "name": "python3"
  },
  "language_info": {
   "codemirror_mode": {
    "name": "ipython",
    "version": 3
   },
   "file_extension": ".py",
   "mimetype": "text/x-python",
   "name": "python",
   "nbconvert_exporter": "python",
   "pygments_lexer": "ipython3",
   "version": "3.11.5"
  }
 },
 "nbformat": 4,
 "nbformat_minor": 5
}
