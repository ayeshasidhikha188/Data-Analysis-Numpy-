{
 "cells": [
  {
   "cell_type": "code",
   "execution_count": 4,
   "id": "7611bd14",
   "metadata": {},
   "outputs": [],
   "source": [
    "import numpy as np"
   ]
  },
  {
   "cell_type": "code",
   "execution_count": 47,
   "id": "19ab100d",
   "metadata": {},
   "outputs": [
    {
     "data": {
      "text/plain": [
       "array([[  0.  ,  16.99,   1.01, ...,   1.  ,   0.  ,   2.  ],\n",
       "       [  1.  ,  10.34,   1.66, ...,   1.  ,   0.  ,   3.  ],\n",
       "       [  2.  ,  21.01,   3.5 , ...,   1.  ,   0.  ,   3.  ],\n",
       "       ...,\n",
       "       [241.  ,  22.67,   2.  , ...,   0.  ,   0.  ,   2.  ],\n",
       "       [242.  ,  17.82,   1.75, ...,   0.  ,   0.  ,   2.  ],\n",
       "       [243.  ,  18.78,   3.  , ...,   2.  ,   0.  ,   2.  ]])"
      ]
     },
     "execution_count": 47,
     "metadata": {},
     "output_type": "execute_result"
    }
   ],
   "source": [
    "fpath=r\"C:\\Users\\mdimr\\data.txt\"\n",
    "g = np.genfromtxt(fpath, delimiter='\\t',skip_header=1)\n",
    "g"
   ]
  },
  {
   "cell_type": "markdown",
   "id": "67b509bc",
   "metadata": {},
   "source": [
    "## 1. What is the total bill value "
   ]
  },
  {
   "cell_type": "code",
   "execution_count": 75,
   "id": "272c132f",
   "metadata": {},
   "outputs": [
    {
     "name": "stdout",
     "output_type": "stream",
     "text": [
      "Total Bill :  4827.77\n"
     ]
    }
   ],
   "source": [
    "totalbill = np.sum(g[:,1])\n",
    "print('Total Bill : ',totalbill)"
   ]
  },
  {
   "cell_type": "markdown",
   "id": "e8ab6911",
   "metadata": {},
   "source": [
    "## 2. What is the total tip value"
   ]
  },
  {
   "cell_type": "code",
   "execution_count": 76,
   "id": "617d1bd4",
   "metadata": {},
   "outputs": [
    {
     "name": "stdout",
     "output_type": "stream",
     "text": [
      "Total Tip :  731.5799999999999\n"
     ]
    }
   ],
   "source": [
    "totaltip = np.sum(g[:,2])\n",
    "print('Total Tip : ',totaltip)"
   ]
  },
  {
   "cell_type": "markdown",
   "id": "e3ce97f0",
   "metadata": {},
   "source": [
    " ## 3. Count how many Sunday,Saturday,Thursday,Friday are there "
   ]
  },
  {
   "cell_type": "code",
   "execution_count": 68,
   "id": "6c017657",
   "metadata": {},
   "outputs": [
    {
     "name": "stdout",
     "output_type": "stream",
     "text": [
      "Sunday :  87\n",
      "Saturday :  76\n",
      "Friday :  62\n",
      "Thursday :  19\n"
     ]
    }
   ],
   "source": [
    "column= g[:, 5]\n",
    "unique_values, counts = np.unique(column, return_counts=True)\n",
    "zip(unique_values, counts)\n",
    "print('Sunday : ',counts[0])\n",
    "print('Saturday : ',counts[1])\n",
    "print('Friday : ',counts[2])\n",
    "print('Thursday : ',counts[3])"
   ]
  },
  {
   "cell_type": "markdown",
   "id": "28606cd2",
   "metadata": {},
   "source": [
    "## 4. How many smokers are there"
   ]
  },
  {
   "cell_type": "code",
   "execution_count": 71,
   "id": "3031f41f",
   "metadata": {},
   "outputs": [
    {
     "name": "stdout",
     "output_type": "stream",
     "text": [
      "Smokers : 93.0\n"
     ]
    }
   ],
   "source": [
    "smokers= np.sum(g[:,4])\n",
    "print('Smokers :', smokers)"
   ]
  },
  {
   "cell_type": "markdown",
   "id": "0cc036d7",
   "metadata": {},
   "source": [
    "## 5. What is the avg Tip given by Male and Female"
   ]
  },
  {
   "cell_type": "code",
   "execution_count": 33,
   "id": "c4eeace8",
   "metadata": {},
   "outputs": [
    {
     "name": "stdout",
     "output_type": "stream",
     "text": [
      "Average Male Tip :  2.8334482758620685\n",
      "Average Female Tip :  3.0896178343949043\n"
     ]
    }
   ],
   "source": [
    "tip=g[:,2]\n",
    "gender=g[:,3]\n",
    "avgMaletip=np.mean(tip[gender==0])\n",
    "avgFemaletip=np.mean(tip[gender==1])\n",
    "print('Average Male Tip : ',avgMaletip)\n",
    "print('Average Female Tip : ',avgFemaletip)"
   ]
  },
  {
   "cell_type": "markdown",
   "id": "8974aa6c",
   "metadata": {},
   "source": [
    "## 6. How much Amount have been spent bye Male and Female"
   ]
  },
  {
   "cell_type": "code",
   "execution_count": 34,
   "id": "b9cbe997",
   "metadata": {},
   "outputs": [
    {
     "name": "stdout",
     "output_type": "stream",
     "text": [
      "Total bill spent by males: 1570.9499999999996\n",
      "Total bill spent by females: 3256.8199999999997\n"
     ]
    }
   ],
   "source": [
    "totalbill = g[:, 1]\n",
    "gender= g[:, 3]\n",
    "\n",
    "totalbillmale = np.sum(totalbill[gender==0])\n",
    "totalbillfemale = np.sum(totalbill[gender==1])\n",
    "\n",
    "print(\"Total bill spent by males:\", totalbillmale)\n",
    "print(\"Total bill spent by females:\", totalbillfemale)"
   ]
  },
  {
   "cell_type": "markdown",
   "id": "5002167b",
   "metadata": {},
   "source": [
    "## 7. What is the min and max tip given"
   ]
  },
  {
   "cell_type": "code",
   "execution_count": 35,
   "id": "e507c6b6",
   "metadata": {},
   "outputs": [
    {
     "name": "stdout",
     "output_type": "stream",
     "text": [
      "Min Tip : 1.0\n"
     ]
    }
   ],
   "source": [
    "tip=np.min(g[:,2])\n",
    "print('Min Tip :',tip)"
   ]
  },
  {
   "cell_type": "code",
   "execution_count": 36,
   "id": "28b2b37d",
   "metadata": {},
   "outputs": [
    {
     "name": "stdout",
     "output_type": "stream",
     "text": [
      "Max Tip : 10.0\n"
     ]
    }
   ],
   "source": [
    "tip=np.max(g[:,2])\n",
    "print('Max Tip :',tip)"
   ]
  },
  {
   "cell_type": "markdown",
   "id": "94f6b33e",
   "metadata": {},
   "source": [
    "## 8.How many Male and Females are going for Lunch and Dinner"
   ]
  },
  {
   "cell_type": "markdown",
   "id": "6e6087eb",
   "metadata": {},
   "source": [
    "### Lunch:"
   ]
  },
  {
   "cell_type": "code",
   "execution_count": 39,
   "id": "bb63ea24",
   "metadata": {},
   "outputs": [
    {
     "name": "stdout",
     "output_type": "stream",
     "text": [
      "Number of males going for lunch: 35\n",
      "Number of females going for lunch: 33\n"
     ]
    }
   ],
   "source": [
    "gender = g[:, 3]\n",
    "time = g[:, 6]\n",
    "malelunchcount = np.sum((gender==0) & (time==1))\n",
    "femalelunchcount = np.sum((gender==1) & (time==1))\n",
    "print(\"Number of males going for lunch:\", malelunchcount)\n",
    "print(\"Number of females going for lunch:\", femalelunchcount)"
   ]
  },
  {
   "cell_type": "markdown",
   "id": "ca3dc6ec",
   "metadata": {},
   "source": [
    "### Dinner:"
   ]
  },
  {
   "cell_type": "code",
   "execution_count": 41,
   "id": "bb92e04d",
   "metadata": {},
   "outputs": [
    {
     "name": "stdout",
     "output_type": "stream",
     "text": [
      "Number of males going for dinner: 52\n",
      "Number of females going for dinner: 124\n"
     ]
    }
   ],
   "source": [
    "gender = g[:, 3]\n",
    "time = g[:, 6]\n",
    "maledinnercount = np.sum((gender==0) & (time==0))\n",
    "femaledinnercount = np.sum((gender==1) & (time==0))\n",
    "print(\"Number of males going for dinner:\", maledinnercount)\n",
    "print(\"Number of females going for dinner:\", femaledinnercount)"
   ]
  },
  {
   "cell_type": "markdown",
   "id": "40e0df99",
   "metadata": {},
   "source": [
    "## 9. Find out the average size "
   ]
  },
  {
   "cell_type": "code",
   "execution_count": 70,
   "id": "4023c969",
   "metadata": {},
   "outputs": [
    {
     "name": "stdout",
     "output_type": "stream",
     "text": [
      "Average Size:  2.569672131147541\n"
     ]
    }
   ],
   "source": [
    "avg=np.mean(g[:,7])\n",
    "print('Average Size: ', avg)"
   ]
  },
  {
   "cell_type": "markdown",
   "id": "325f3df5",
   "metadata": {},
   "source": [
    "## 10. How many Female smokers are there and Male smokers are there "
   ]
  },
  {
   "cell_type": "code",
   "execution_count": 30,
   "id": "713a3983",
   "metadata": {},
   "outputs": [
    {
     "name": "stdout",
     "output_type": "stream",
     "text": [
      "MaleSmokers: 33 FemaleSmokers:  60\n"
     ]
    }
   ],
   "source": [
    "gender=(g[:,3])\n",
    "smokers=(g[:,4])\n",
    "malesmokers=np.sum((gender==0) & (smokers==1))\n",
    "femalesmokers=np.sum((gender==1) & (smokers==1))\n",
    "print('MaleSmokers:',malesmokers,'FemaleSmokers: ',femalesmokers)"
   ]
  }
 ],
 "metadata": {
  "kernelspec": {
   "display_name": "Python 3 (ipykernel)",
   "language": "python",
   "name": "python3"
  },
  "language_info": {
   "codemirror_mode": {
    "name": "ipython",
    "version": 3
   },
   "file_extension": ".py",
   "mimetype": "text/x-python",
   "name": "python",
   "nbconvert_exporter": "python",
   "pygments_lexer": "ipython3",
   "version": "3.11.5"
  }
 },
 "nbformat": 4,
 "nbformat_minor": 5
}
